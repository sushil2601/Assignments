{
 "cells": [
  {
   "cell_type": "code",
   "execution_count": 239,
   "metadata": {
    "scrolled": true
   },
   "outputs": [
    {
     "name": "stdout",
     "output_type": "stream",
     "text": [
      "                      0             1\n",
      "Intercept  31205.647871  55856.584605\n",
      "rd             0.651610      0.877638\n",
      "adm           -0.175063      0.070057\n",
      "mar           -0.015693      0.066472\n",
      "ST_CAL      9394.268553  20448.026337\n",
      "ST_FLO      8230.704764  20388.096204\n",
      "ST_NY       8287.383501  20313.753118\n"
     ]
    },
    {
     "name": "stderr",
     "output_type": "stream",
     "text": [
      "/home/sushil/.local/lib/python3.8/site-packages/scipy/stats/stats.py:1603: UserWarning: kurtosistest only valid for n>=20 ... continuing anyway, n=15\n",
      "  warnings.warn(\"kurtosistest only valid for n>=20 ... continuing \"\n"
     ]
    },
    {
     "data": {
      "text/plain": [
       "7407.234823080074"
      ]
     },
     "execution_count": 239,
     "metadata": {},
     "output_type": "execute_result"
    },
    {
     "data": {
      "image/png": "[encoded data removed]",
      "text/plain": [
       "<Figure size 432x288 with 1 Axes>"
      ]
     },
     "metadata": {
      "needs_background": "light"
     },
     "output_type": "display_data"
    }
   ],
   "source": [
    "import pandas as pd\n",
    "import numpy as np\n",
    "import matplotlib.pyplot as plt\n",
    "\n",
    "startup = pd.read_csv('/home/sushil/Documents/Assingment/MLR-Ass5/50_Startups.csv')\n",
    "startup\n",
    "startup.columns\n",
    "startup.columns = ['rd','adm','mar','state','pf']\n",
    "startup.columns\n",
    "\n",
    "plt.hist(startup.rd)\n",
    "plt.boxplot(startup.rd)\n",
    "\n",
    "plt.hist(startup.adm)\n",
    "plt.boxplot(startup.adm)\n",
    "\n",
    "plt.hist(startup.mar)\n",
    "plt.boxplot(startup.mar)\n",
    "\n",
    "plt.hist(startup.pf)\n",
    "plt.boxplot(startup.pf)\n",
    "\n",
    "startup.head()\n",
    "startup.corr()\n",
    "startup.state.value_counts\n",
    "startup['state'].nunique()\n",
    "startup = pd.get_dummies(startup, columns = ['state'])\n",
    "startup = startup.rename(columns = {'state_California' : 'ST_CAL', 'state_Florida' : 'ST_FLO', 'state_New York' : 'ST_NY'})\n",
    "startup.head()\n",
    "startup.columns\n",
    "\n",
    "import seaborn as sns\n",
    "sns.pairplot(startup)\n",
    "\n",
    "# Preparing model\n",
    "import statsmodels.formula.api as smf\n",
    "\n",
    "ml1 = smf.ols('pf~rd+adm+mar+ST_CAL+ST_FLO+ST_NY',data=startup).fit()\n",
    "\n",
    "ml1.params\n",
    "ml1.summary()\n",
    "\n",
    "# Preparing model based on variable\n",
    "\n",
    "mladm = smf.ols('pf~adm',data=startup).fit()\n",
    "mladm.params\n",
    "mladm.summary()\n",
    "\n",
    "mlmar = smf.ols('pf~mar',data=startup).fit()\n",
    "mlmar.params\n",
    "mlmar.summary()\n",
    "\n",
    "ml2 = smf.ols('pf~adm+mar',data=startup).fit()\n",
    "ml2.params\n",
    "ml2.summary()\n",
    "\n",
    "import statsmodels.api as sm\n",
    "sm.graphics.influence_plot(ml_1)\n",
    "\n",
    "startup_new = startup.drop(startup.index[[49,48,46]],axis=0)\n",
    "startup_new\n",
    "\n",
    "ml1_new = smf.ols('pf~rd+adm+mar+ST_CAL+ST_FLO+ST_NY',data=startup_new).fit()\n",
    "ml1_new.params\n",
    "ml1_new.summary()\n",
    "\n",
    "print(ml1_new.conf_int(0.01))\n",
    "startup_new.head()\n",
    "\n",
    "# Predicted value of profit\n",
    "\n",
    "pf_pred = ml1_new.predict(pd.DataFrame(startup_new[['rd','adm','mar','ST_CAL','ST_FLO','ST_NY']]))\n",
    "pf_pred\n",
    "\n",
    "rsd_rd = smf.ols('rd~adm+mar+ST_CAL+ST_FLO+ST_NY',data=startup_new).fit().rsquared\n",
    "vif_rd = 1/(1-rsd_rd)\n",
    "vif_rd\n",
    "\n",
    "rsd_adm = smf.ols('adm~rd+mar+ST_CAL+ST_FLO+ST_NY',data=startup_new).fit().rsquared\n",
    "vif_adm = 1/(1-rsd_adm)\n",
    "vif_adm\n",
    "\n",
    "rsd_mar = smf.ols('mar~rd+adm+ST_CAL+ST_FLO+ST_NY',data=startup_new).fit().rsquared\n",
    "vif_mar = 1/(1-rsd_mar)\n",
    "vif_mar\n",
    "\n",
    "d1 = {'variable':['rd','adm','mar'],'VIF':[vif_rd,vif_adm,vif_mar]}\n",
    "vif_frame = pd.DataFrame(d1)\n",
    "vif_frame\n",
    "\n",
    "sm.graphics.plot_partregress_grid(ml1_new)\n",
    "\n",
    "final_model = smf.ols('pf~rd+mar+ST_CAL+ST_FLO+ST_NY', data = startup_new).fit()\n",
    "final_model.params\n",
    "final_model.summary()\n",
    "\n",
    "startup_new.columns\n",
    "\n",
    "pred = final_model.predict(pd.DataFrame(startup_new[['rd','mar', 'ST_CAL', 'ST_FLO', 'ST_NY']]))\n",
    "pred\n",
    "\n",
    "plt.scatter(startup_new.pf, pred);plt.xlabel('Actual Values');plt.ylabel('Predicted Values')\n",
    "\n",
    "len(startup_new)\n",
    "\n",
    "plt.scatter(pred, final_model.resid_pearson);plt.axhline(y = 0, color = 'r')\n",
    "plt.hist(final_model.resid_pearson)\n",
    "\n",
    "import pylab\n",
    "from scipy import stats as st\n",
    "st.probplot(final_model.resid_pearson, dist = 'norm', plot = pylab)\n",
    "\n",
    "from sklearn.model_selection import train_test_split\n",
    "startup_train,startup_test = train_test_split(startup_new,test_size = 0.3)\n",
    "\n",
    "model_train = smf.ols('pf~rd+mar+ST_CAL+ST_FLO+ST_NY', data = startup_train).fit()\n",
    "model_train.summary()\n",
    "\n",
    "train_pred = model_train.predict(startup_train)\n",
    "train_pred\n",
    "\n",
    "train_resid = train_pred - startup_train.pf\n",
    "train_resid\n",
    "\n",
    "train_rmse = np.sqrt(np.mean(train_resid*train_resid))\n",
    "train_rmse\n",
    "\n",
    "model_test = smf.ols('pf~rd+mar+ST_CAL+ST_FLO+ST_NY',data=startup_test).fit()\n",
    "model_test.params\n",
    "model_test.summary()\n",
    "\n",
    "test_pred = model_train.predict(startup_test)\n",
    "test_pred\n",
    "\n",
    "test_resid = test_pred - startup_test.pf\n",
    "test_resid\n",
    "\n",
    "test_rmse = np.sqrt(np.mean(test_resid*test_resid))\n",
    "test_rmse"
   ]
  }
 ],
 "metadata": {
  "kernelspec": {
   "display_name": "Python 3",
   "language": "python",
   "name": "python3"
  },
  "language_info": {
   "codemirror_mode": {
    "name": "ipython",
    "version": 3
   },
   "file_extension": ".py",
   "mimetype": "text/x-python",
   "name": "python",
   "nbconvert_exporter": "python",
   "pygments_lexer": "ipython3",
   "version": "3.8.3"
  }
 },
 "nbformat": 4,
 "nbformat_minor": 4
}
